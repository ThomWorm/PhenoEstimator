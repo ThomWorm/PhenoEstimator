{
 "cells": [
  {
   "cell_type": "code",
   "execution_count": null,
   "id": "044d34a1",
   "metadata": {},
   "outputs": [],
   "source": [
    "import os\n",
    "import sys\n",
    "#run this once to set up the path, then you can delete it\n",
    "project_root = os.path.abspath(os.path.join(os.getcwd(), \"..\"))\n",
    "if project_root not in sys.path:\n",
    "    sys.path.insert(0, project_root)"
   ]
  },
  {
   "cell_type": "code",
   "execution_count": 9,
   "id": "751f4350",
   "metadata": {},
   "outputs": [],
   "source": [
    "import polars as pl  # lets use polars instead of pandas - I need to learn it\n",
    "from phenoestimator import get_inat_observations"
   ]
  },
  {
   "cell_type": "code",
   "execution_count": null,
   "id": "2f9dfde4",
   "metadata": {},
   "outputs": [
    {
     "name": "stdout",
     "output_type": "stream",
     "text": [
      "/home/thom/Documents/projects/PhenoEstimator/notebooks\n"
     ]
    }
   ],
   "source": [
    "inat_observations = get_inat_observations()"
   ]
  }
 ],
 "metadata": {
  "kernelspec": {
   "display_name": ".venv",
   "language": "python",
   "name": "python3"
  },
  "language_info": {
   "codemirror_mode": {
    "name": "ipython",
    "version": 3
   },
   "file_extension": ".py",
   "mimetype": "text/x-python",
   "name": "python",
   "nbconvert_exporter": "python",
   "pygments_lexer": "ipython3",
   "version": "3.10.13"
  }
 },
 "nbformat": 4,
 "nbformat_minor": 5
}
